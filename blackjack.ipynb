{
 "cells": [
  {
   "cell_type": "code",
   "execution_count": 15,
   "metadata": {},
   "outputs": [
    {
     "name": "stdout",
     "output_type": "stream",
     "text": [
      "[6, 6]\n",
      "The current player score is  12\n",
      "0\n",
      "[6, 6, 2]\n",
      " the player's score is 14\n",
      "[6, 6, 2, 8]\n",
      " the player's score is 22\n",
      "Dealer wins\n"
     ]
    }
   ],
   "source": [
    "#Blackjack \n",
    "import random\n",
    "cards = [11, 2, 3, 4, 5, 6, 7, 8, 9, 10, 10, 10, 10]\n",
    "cards2 = [11, 2, 3, 4, 5, 6, 7, 8, 9, 10, 10, 10, 10]\n",
    "\n",
    "\n",
    "def draw():\n",
    "    random_card = random.choice(cards)\n",
    "    return random_card\n",
    "\n",
    "\n",
    "functions ={\"hit\" : draw}\n",
    "player_cards = []\n",
    "dealers_cards = []\n",
    "def game_draws(data, data_list):\n",
    "    dealer_score = 0\n",
    "    player_score = 0  \n",
    "    for i in range(data):\n",
    "        drawn_cards = random.choice(cards)\n",
    "        data_list.append(drawn_cards)\n",
    "\n",
    "    \n",
    "\n",
    "\n",
    "    print(player_cards)  \n",
    "    player_score  += (player_cards[0] + player_cards[1])\n",
    "    print(f\"The current player score is  {player_score}\")\n",
    " \n",
    "\n",
    "   \n",
    "    print(dealer_score)\n",
    "    if player_score == 21:\n",
    "       print(\"Player wins!\")\n",
    "    while player_score < 21: \n",
    "        answer1 = input(\"Do you want to stand or hit \"). lower()\n",
    "        if answer1 == \"hit\":\n",
    "                added_card = functions[\"hit\"]\n",
    "                new_card = added_card()\n",
    "                player_cards.append(new_card)\n",
    "                print(player_cards)\n",
    "                player_score += new_card\n",
    "                print(f\" the player's score is {player_score}\")\n",
    "        else:\n",
    "             print(player_score)\n",
    "             print(f\" the player's score is {player_score}\")\n",
    "             break\n",
    "    if player_score > 21:\n",
    "         print(\"Dealer wins\")\n",
    "    elif player_score == 21:\n",
    "        print(\"Player wins\")\n",
    "    elif player_score < dealer_score:\n",
    "         print(\"The dealer wins!\")\n",
    "    elif player_score > dealer_score:\n",
    "         print(\"Player wins\")      \n",
    "game_draws(2, player_cards)\n"
   ]
  },
  {
   "cell_type": "code",
   "execution_count": null,
   "metadata": {},
   "outputs": [],
   "source": []
  }
 ],
 "metadata": {
  "interpreter": {
   "hash": "b3ba2566441a7c06988d0923437866b63cedc61552a5af99d1f4fb67d367b25f"
  },
  "kernelspec": {
   "display_name": "Python 3.8.8 ('base')",
   "language": "python",
   "name": "python3"
  },
  "language_info": {
   "codemirror_mode": {
    "name": "ipython",
    "version": 3
   },
   "file_extension": ".py",
   "mimetype": "text/x-python",
   "name": "python",
   "nbconvert_exporter": "python",
   "pygments_lexer": "ipython3",
   "version": "3.8.8"
  },
  "orig_nbformat": 4
 },
 "nbformat": 4,
 "nbformat_minor": 2
}
